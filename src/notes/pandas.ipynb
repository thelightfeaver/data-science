{
 "cells": [
  {
   "cell_type": "code",
   "execution_count": null,
   "metadata": {},
   "outputs": [],
   "source": [
    "# Install the library pandas\n",
    "%pip install pandas"
   ]
  },
  {
   "cell_type": "code",
   "execution_count": null,
   "metadata": {},
   "outputs": [],
   "source": [
    "# Import library\n",
    "import pandas as pd"
   ]
  },
  {
   "cell_type": "code",
   "execution_count": null,
   "metadata": {},
   "outputs": [],
   "source": [
    "# Create a dataframe\n",
    "df = pd.DataFrame({'a':[1,2,3,4],'b':[1,2,3,4]})\n",
    "display(df)"
   ]
  },
  {
   "cell_type": "code",
   "execution_count": null,
   "metadata": {},
   "outputs": [],
   "source": [
    "# Function getting information\n",
    "\n",
    "# returns the first few rows (the “head” of the DataFrame).\n",
    "df.head()\n",
    "\n",
    "# calculates a few summary statistics for each column.\n",
    "df.describe()\n",
    "\n",
    "# returns the number of rows and columns of the DataFrame.\n",
    "df.shape\n",
    "\n",
    "# shows information on each of the columns, such as the data type and number of missing values.\n",
    "df.info()\n",
    "\n",
    "# Return the keys of dataframe.\n",
    "df.keys()\n",
    "\n",
    "# return the values of dataframe.\n",
    "df.values\n",
    "\n",
    "# Return column index of dataframe.\n",
    "df.columns\n",
    "\n",
    "# Return row index of dataframe.\n",
    "df.index"
   ]
  },
  {
   "cell_type": "code",
   "execution_count": null,
   "metadata": {},
   "outputs": [],
   "source": [
    "# Load data from csv file.\n",
    "df = pd.read_csv('../data/pokemon.csv')"
   ]
  },
  {
   "cell_type": "code",
   "execution_count": null,
   "metadata": {},
   "outputs": [],
   "source": [
    "# Return a data from column name.\n",
    "display(df['name'])\n",
    "\n",
    "# Return many data from head.\n",
    "display(df[['name', 'generation']])"
   ]
  },
  {
   "cell_type": "code",
   "execution_count": null,
   "metadata": {},
   "outputs": [],
   "source": [
    "# Sort data from a key or keys in ascending and descending\n",
    "# ascending is true by default.\n",
    "df.sort_values('attack')\n",
    "\n",
    "# Sort dascending the data.\n",
    "df.sort_values('attack', ascending=False)['attack']"
   ]
  }
 ],
 "metadata": {
  "kernelspec": {
   "display_name": "Python 3",
   "language": "python",
   "name": "python3"
  },
  "language_info": {
   "codemirror_mode": {
    "name": "ipython",
    "version": 3
   },
   "file_extension": ".py",
   "mimetype": "text/x-python",
   "name": "python",
   "nbconvert_exporter": "python",
   "pygments_lexer": "ipython3",
   "version": "3.10.8"
  },
  "orig_nbformat": 4,
  "vscode": {
   "interpreter": {
    "hash": "1e3d2864960cda1cc89e7405ec595e77e7ac30692c1b4230c1dcf8d9a5036813"
   }
  }
 },
 "nbformat": 4,
 "nbformat_minor": 2
}
