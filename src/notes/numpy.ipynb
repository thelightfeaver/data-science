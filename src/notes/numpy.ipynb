{
 "cells": [
  {
   "cell_type": "code",
   "execution_count": 2,
   "metadata": {},
   "outputs": [],
   "source": [
    "import numpy as np"
   ]
  },
  {
   "cell_type": "code",
   "execution_count": 3,
   "metadata": {},
   "outputs": [
    {
     "data": {
      "text/plain": [
       "array([[1, 2, 3],\n",
       "       [4, 5, 6],\n",
       "       [7, 8, 9]])"
      ]
     },
     "execution_count": 3,
     "metadata": {},
     "output_type": "execute_result"
    }
   ],
   "source": [
    "# Create a 1D NumPy array with the values 1, 2, 3, 4, 5\n",
    "np.array([1, 2, 3, 4, 5])\n",
    "\n",
    "# Create a 1D NumPy array with the values 1, 2, 3, 4, 5, but with the data type set to float\n",
    "np.array([1, 2, 3, 4, 5], dtype=float)\n",
    "\n",
    "# Create a 2D NumPy array with the values 1, 2, 3, 4, 5, 6, 7, 8, 9\n",
    "np.array([[1, 2, 3], [4, 5, 6], [7, 8, 9]])\n",
    "\n",
    "# Create a 3D NumPy array with the values 1, 2, 3, 4, 5, 6, 7, 8, 9, but with the data type set to float\n",
    "np.array([[[1, 2, 3], [4, 5, 6], [7, 8, 9]]], dtype=float)"
   ]
  }
 ],
 "metadata": {
  "kernelspec": {
   "display_name": "Python 3",
   "language": "python",
   "name": "python3"
  },
  "language_info": {
   "codemirror_mode": {
    "name": "ipython",
    "version": 3
   },
   "file_extension": ".py",
   "mimetype": "text/x-python",
   "name": "python",
   "nbconvert_exporter": "python",
   "pygments_lexer": "ipython3",
   "version": "3.11.3"
  }
 },
 "nbformat": 4,
 "nbformat_minor": 2
}
